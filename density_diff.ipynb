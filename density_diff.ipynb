{
 "cells": [
  {
   "attachments": {},
   "cell_type": "markdown",
   "metadata": {},
   "source": [
    "# Analysis of Split ECG latent space for Model Poisoning Detection"
   ]
  },
  {
   "cell_type": "code",
   "execution_count": 146,
   "metadata": {},
   "outputs": [
    {
     "name": "stdout",
     "output_type": "stream",
     "text": [
      "The autoreload extension is already loaded. To reload it, use:\n",
      "  %reload_ext autoreload\n"
     ]
    }
   ],
   "source": [
    "import numpy as np\n",
    "import os\n",
    "from torch.nn.functional import max_pool1d, avg_pool1d\n",
    "import torch\n",
    "import pickle\n",
    "import pandas as pd\n",
    "import scipy.spatial as sp\n",
    "from scipy.interpolate import make_interp_spline, BSpline\n",
    "from scipy.special import kl_div, rel_entr\n",
    "from scipy.spatial.distance import jensenshannon\n",
    "from sklearn.manifold import TSNE\n",
    "from sklearn.neighbors import KNeighborsClassifier, KernelDensity\n",
    "from sklearn.decomposition import PCA\n",
    "from functools import partial\n",
    "import multiprocessing\n",
    "import matplotlib.pyplot as plt\n",
    "from matplotlib import ticker\n",
    "import matplotlib as mpl\n",
    "from contextlib import closing\n",
    "import itertools\n",
    "#from tqdm.notebook import tqdm\n",
    "from tqdm import tqdm\n",
    "import math\n",
    "from server.security.analysis import *\n",
    "import client.utils as utils\n",
    "%load_ext autoreload\n",
    "%autoreload 2"
   ]
  },
  {
   "attachments": {},
   "cell_type": "markdown",
   "metadata": {},
   "source": [
    "## Density Difference Analysis"
   ]
  },
  {
   "cell_type": "code",
   "execution_count": 125,
   "metadata": {},
   "outputs": [],
   "source": [
    "similarity = \"euclidean\"\n",
    "epochs = 30\n",
    "num_clients = 10\n",
    "base_path = \"/home/mohkoh/projects/Split_ECG_Classification/latent_space/N=10_M=8_type=LF_p=0.25\"\n",
    "metadata = pickle.load(open(os.path.join(base_path, \"metadata.pickle\"), \"rb\"))"
   ]
  },
  {
   "cell_type": "code",
   "execution_count": 126,
   "metadata": {},
   "outputs": [
    {
     "data": {
      "text/plain": [
       "{'num_clients': 10,\n",
       " 'exp_name': 'N=10_M=8_type=LF_p=0.25',\n",
       " 'is_malicious': {0: False,\n",
       "  1: True,\n",
       "  2: True,\n",
       "  3: True,\n",
       "  4: True,\n",
       "  5: False,\n",
       "  6: True,\n",
       "  7: True,\n",
       "  8: True,\n",
       "  9: True},\n",
       " 'batchsize': 64,\n",
       " 'data_poisoning_prob': 0.0,\n",
       " 'label_flipping_prob': 0.25}"
      ]
     },
     "execution_count": 126,
     "metadata": {},
     "output_type": "execute_result"
    }
   ],
   "source": [
    "metadata"
   ]
  },
  {
   "cell_type": "code",
   "execution_count": 127,
   "metadata": {},
   "outputs": [
    {
     "data": {
      "application/json": {
       "ascii": false,
       "bar_format": null,
       "colour": null,
       "elapsed": 0.0021653175354003906,
       "initial": 0,
       "n": 0,
       "ncols": null,
       "nrows": null,
       "postfix": null,
       "prefix": "Load Data Frames",
       "rate": null,
       "total": 10,
       "unit": "it",
       "unit_divisor": 1000,
       "unit_scale": false
      },
      "application/vnd.jupyter.widget-view+json": {
       "model_id": "bab5af7c5ad74d73ab401505bfeaa101",
       "version_major": 2,
       "version_minor": 0
      },
      "text/plain": [
       "Load Data Frames:   0%|          | 0/10 [00:00<?, ?it/s]"
      ]
     },
     "metadata": {},
     "output_type": "display_data"
    }
   ],
   "source": [
    "df_base = pd.DataFrame()\n",
    "for idx in tqdm(range(num_clients), desc=f\"Load Data Frames\"):\n",
    "    for epoch in range(1, epochs + 1):\n",
    "        client_path = os.path.join(base_path, \"client_\" + str(idx))\n",
    "        df = pd.read_pickle(os.path.join(client_path, \"epoch_{}.pickle\".format(epoch)))\n",
    "        df[\"client_id\"] = idx\n",
    "        df_base = pd.concat([df_base, df], axis=0, ignore_index=True)"
   ]
  },
  {
   "cell_type": "code",
   "execution_count": 184,
   "metadata": {},
   "outputs": [],
   "source": [
    "def density_diff(df_base, client_id, epoch, split=\"knn_10_euclidean\", pooling=None, k=2.0, kernel=\"gaussian\", bandwidth=\"scott\", pca=True):\n",
    "    df1 = df_base[(df_base[\"client_id\"] == client_id) & (df_base[\"epoch\"] == epoch)]\n",
    "    df1 = split_labels(df1, split)\n",
    "    df1_k = df1[df1.label == k]\n",
    "\n",
    "    # Get high dimensional vectors\n",
    "    hd_all = pool_latent_vectors(df1.client_output.to_list(), pooling=pooling)\n",
    "    hd_k = pool_latent_vectors(df1_k.client_output.to_list(), pooling=pooling)\n",
    "\n",
    "    # runs PCA on numpy array hd_vectors and reduces the dimensionality to d \n",
    "    if pca:\n",
    "        pca = PCA(n_components='mle').fit(hd_all)\n",
    "        ld_all = pca.transform(hd_all)\n",
    "        ld_k = pca.transform(hd_k)\n",
    "    else:\n",
    "        ld_all = hd_all\n",
    "        ld_k = hd_k\n",
    "\n",
    "    # Estimate q\n",
    "    q = KernelDensity(kernel=kernel, bandwidth=bandwidth).fit(ld_all)\n",
    "    q = np.exp(q.score_samples(ld_k))\n",
    "\n",
    "    # Estimate p\n",
    "    p = KernelDensity(kernel=kernel, bandwidth=bandwidth).fit(ld_k)\n",
    "    p = np.exp(p.score_samples(ld_k))\n",
    "\n",
    "    kl = kl_div(p, q).sum()\n",
    "    re = rel_entr(p, q).sum()\n",
    "    \n",
    "    skl = kl_div(q, p).sum()\n",
    "    sre = rel_entr(q, p).sum()\n",
    "    \n",
    "    #js = jensenshannon(p, q, base=10)\n",
    "\n",
    "    return re, kl, sre, skl#, js"
   ]
  },
  {
   "cell_type": "code",
   "execution_count": 185,
   "metadata": {},
   "outputs": [],
   "source": [
    "labels = [ 2., 16.,  4.,  8.,  1.]"
   ]
  },
  {
   "cell_type": "code",
   "execution_count": 188,
   "metadata": {},
   "outputs": [
    {
     "name": "stdout",
     "output_type": "stream",
     "text": [
      "-------------------\n",
      "ID: 0\n",
      "--- Class: 2.0, RE: 0.56, KLD: 0.16, SRE: -0.27, SKLD: 0.13\n",
      "--- Class: 16.0, RE: 1.71, KLD: 1.02, SRE: -0.19, SKLD: 0.50\n",
      "--- Class: 4.0, RE: 1.32, KLD: 0.69, SRE: -0.24, SKLD: 0.39\n",
      "--- Class: 8.0, RE: 2.85, KLD: 2.09, SRE: -0.07, SKLD: 0.68\n",
      "--- Class: 1.0, RE: 1.27, KLD: 0.65, SRE: -0.25, SKLD: 0.38\n",
      "-------------------\n",
      "\n",
      "-------------------\n",
      "ID: 1\n",
      "--- Class: 2.0, RE: 0.51, KLD: 0.13, SRE: -0.26, SKLD: 0.11\n",
      "--- Class: 16.0, RE: 1.73, KLD: 1.03, SRE: -0.19, SKLD: 0.51\n",
      "--- Class: 4.0, RE: 1.38, KLD: 0.74, SRE: -0.23, SKLD: 0.41\n",
      "--- Class: 8.0, RE: 2.80, KLD: 2.05, SRE: -0.08, SKLD: 0.68\n",
      "--- Class: 1.0, RE: 1.35, KLD: 0.71, SRE: -0.24, SKLD: 0.40\n",
      "-------------------\n",
      "\n",
      "-------------------\n",
      "ID: 2\n",
      "--- Class: 2.0, RE: 0.52, KLD: 0.14, SRE: -0.27, SKLD: 0.11\n",
      "--- Class: 16.0, RE: 1.76, KLD: 1.06, SRE: -0.18, SKLD: 0.51\n",
      "--- Class: 4.0, RE: 1.38, KLD: 0.73, SRE: -0.23, SKLD: 0.41\n",
      "--- Class: 8.0, RE: 2.79, KLD: 2.03, SRE: -0.08, SKLD: 0.68\n",
      "--- Class: 1.0, RE: 1.30, KLD: 0.67, SRE: -0.24, SKLD: 0.39\n",
      "-------------------\n",
      "\n",
      "-------------------\n",
      "ID: 3\n",
      "--- Class: 2.0, RE: 0.50, KLD: 0.13, SRE: -0.26, SKLD: 0.11\n",
      "--- Class: 16.0, RE: 1.74, KLD: 1.05, SRE: -0.18, SKLD: 0.51\n",
      "--- Class: 4.0, RE: 1.34, KLD: 0.70, SRE: -0.24, SKLD: 0.40\n",
      "--- Class: 8.0, RE: 2.82, KLD: 2.07, SRE: -0.07, SKLD: 0.68\n",
      "--- Class: 1.0, RE: 1.39, KLD: 0.74, SRE: -0.23, SKLD: 0.41\n",
      "-------------------\n",
      "\n",
      "-------------------\n",
      "ID: 4\n",
      "--- Class: 2.0, RE: 0.50, KLD: 0.13, SRE: -0.26, SKLD: 0.10\n",
      "--- Class: 16.0, RE: 1.73, KLD: 1.03, SRE: -0.19, SKLD: 0.51\n",
      "--- Class: 4.0, RE: 1.40, KLD: 0.75, SRE: -0.23, SKLD: 0.42\n",
      "--- Class: 8.0, RE: 2.73, KLD: 1.98, SRE: -0.08, SKLD: 0.67\n",
      "--- Class: 1.0, RE: 1.37, KLD: 0.73, SRE: -0.23, SKLD: 0.41\n",
      "-------------------\n",
      "\n",
      "-------------------\n",
      "ID: 5\n",
      "--- Class: 2.0, RE: 0.57, KLD: 0.17, SRE: -0.27, SKLD: 0.13\n",
      "--- Class: 16.0, RE: 1.65, KLD: 0.97, SRE: -0.20, SKLD: 0.49\n",
      "--- Class: 4.0, RE: 1.28, KLD: 0.66, SRE: -0.25, SKLD: 0.38\n",
      "--- Class: 8.0, RE: 2.82, KLD: 2.06, SRE: -0.07, SKLD: 0.68\n",
      "--- Class: 1.0, RE: 1.32, KLD: 0.68, SRE: -0.24, SKLD: 0.39\n",
      "-------------------\n",
      "\n",
      "-------------------\n",
      "ID: 6\n",
      "--- Class: 2.0, RE: 0.50, KLD: 0.13, SRE: -0.26, SKLD: 0.11\n",
      "--- Class: 16.0, RE: 1.72, KLD: 1.03, SRE: -0.19, SKLD: 0.50\n",
      "--- Class: 4.0, RE: 1.39, KLD: 0.74, SRE: -0.23, SKLD: 0.41\n",
      "--- Class: 8.0, RE: 2.85, KLD: 2.09, SRE: -0.07, SKLD: 0.68\n",
      "--- Class: 1.0, RE: 1.36, KLD: 0.72, SRE: -0.24, SKLD: 0.40\n",
      "-------------------\n",
      "\n",
      "-------------------\n",
      "ID: 7\n",
      "--- Class: 2.0, RE: 0.51, KLD: 0.14, SRE: -0.27, SKLD: 0.11\n",
      "--- Class: 16.0, RE: 1.74, KLD: 1.04, SRE: -0.19, SKLD: 0.51\n",
      "--- Class: 4.0, RE: 1.34, KLD: 0.71, SRE: -0.24, SKLD: 0.40\n",
      "--- Class: 8.0, RE: 2.84, KLD: 2.08, SRE: -0.07, SKLD: 0.68\n",
      "--- Class: 1.0, RE: 1.35, KLD: 0.71, SRE: -0.24, SKLD: 0.40\n",
      "-------------------\n",
      "\n",
      "-------------------\n",
      "ID: 8\n",
      "--- Class: 2.0, RE: 0.50, KLD: 0.13, SRE: -0.26, SKLD: 0.11\n",
      "--- Class: 16.0, RE: 1.76, KLD: 1.07, SRE: -0.18, SKLD: 0.51\n",
      "--- Class: 4.0, RE: 1.35, KLD: 0.71, SRE: -0.24, SKLD: 0.40\n",
      "--- Class: 8.0, RE: 2.86, KLD: 2.10, SRE: -0.07, SKLD: 0.68\n",
      "--- Class: 1.0, RE: 1.37, KLD: 0.73, SRE: -0.23, SKLD: 0.41\n",
      "-------------------\n",
      "\n",
      "-------------------\n",
      "ID: 9\n",
      "--- Class: 2.0, RE: 0.49, KLD: 0.12, SRE: -0.26, SKLD: 0.10\n",
      "--- Class: 16.0, RE: 1.75, KLD: 1.06, SRE: -0.18, SKLD: 0.51\n",
      "--- Class: 4.0, RE: 1.42, KLD: 0.77, SRE: -0.23, SKLD: 0.42\n",
      "--- Class: 8.0, RE: 2.79, KLD: 2.04, SRE: -0.08, SKLD: 0.68\n",
      "--- Class: 1.0, RE: 1.36, KLD: 0.72, SRE: -0.24, SKLD: 0.41\n",
      "-------------------\n",
      "\n"
     ]
    }
   ],
   "source": [
    "epoch = 2\n",
    "for client_id in range(num_clients):\n",
    "    print(f\"-------------------\")\n",
    "    print(f\"ID: {client_id}\")\n",
    "    for k in labels:\n",
    "        dd = density_diff(df_base, client_id, epoch, k=k, bandwidth=.4, pca=False, pooling=\"avg\")\n",
    "        print(f\"--- Class: {k}, RE: {dd[0]:.2f}, KLD: {dd[1]:.2f}, SRE: {dd[2]:.2f}, SKLD: {dd[3]:.2f}\")\n",
    "    print(f\"-------------------\\n\")"
   ]
  },
  {
   "cell_type": "code",
   "execution_count": null,
   "metadata": {},
   "outputs": [],
   "source": []
  },
  {
   "cell_type": "code",
   "execution_count": null,
   "metadata": {},
   "outputs": [],
   "source": []
  }
 ],
 "metadata": {
  "kernelspec": {
   "display_name": "Medical-Split-Learning",
   "language": "python",
   "name": "python3"
  },
  "language_info": {
   "codemirror_mode": {
    "name": "ipython",
    "version": 3
   },
   "file_extension": ".py",
   "mimetype": "text/x-python",
   "name": "python",
   "nbconvert_exporter": "python",
   "pygments_lexer": "ipython3",
   "version": "3.9.7"
  },
  "orig_nbformat": 4,
  "vscode": {
   "interpreter": {
    "hash": "bc52ed4b74af89c59c87218cbed3cf51503867793a5b3ec27b5161d47e38d1ba"
   }
  }
 },
 "nbformat": 4,
 "nbformat_minor": 2
}
