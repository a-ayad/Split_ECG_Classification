{
 "cells": [
  {
   "attachments": {},
   "cell_type": "markdown",
   "metadata": {},
   "source": [
    "# Analysis of Split ECG latent space for Model Poisoning Detection"
   ]
  },
  {
   "attachments": {},
   "cell_type": "markdown",
   "metadata": {},
   "source": [
    "## Distance Based Per-Class First Moments"
   ]
  },
  {
   "cell_type": "code",
   "execution_count": 1,
   "metadata": {},
   "outputs": [],
   "source": [
    "import numpy as np\n",
    "import torch \n",
    "import pickle\n",
    "import pandas as pd"
   ]
  },
  {
   "cell_type": "code",
   "execution_count": 5,
   "metadata": {},
   "outputs": [],
   "source": [
    "\n",
    "# Returns the cosine similarity between two vectors\n",
    "def cosine_similarity(vector1, vector2):\n",
    "    return np.dot(vector1, vector2) / (np.linalg.norm(vector1) * np.linalg.norm(vector2))\n",
    "\n",
    "# Returns the euclidean similarity between two vectors\n",
    "def euclidean_similarity(vector1, vector2):\t\n",
    "    return np.linalg.norm(vector1 - vector2)\n",
    "\n",
    "# Returns the manhattan similarity between two vectors\n",
    "def manhattan_similarity(vector1, vector2):\t\n",
    "    return np.sum(np.abs(vector1 - vector2))\t\n",
    "\n",
    "# Returns the jaccard similarity between two vectors\t\n",
    "def jaccard_similarity(vector1, vector2):\t\n",
    "    return np.sum(np.minimum(vector1, vector2)) / np.sum(np.maximum(vector1, vector2))\n",
    "\n",
    "# Weights classes of a multi-label dataset based on the number of samples in each class. Every unique combination of labels is considered a class. Uses softmax to normalize the weights.\n",
    "def class_weights(dataset):\t\t\n",
    "    # Get the number of samples in each class\n",
    "    class_counts = np.zeros(dataset.num_classes)\n",
    "    for i in range(dataset.num_classes):\n",
    "        class_counts[i] = np.sum(dataset.labels[:, i])\n",
    "    \n",
    "    # Normalize the weights\n",
    "    class_weights = np.exp(class_counts)\n",
    "    class_weights = class_weights / np.sum(class_weights)\n",
    "    \n",
    "    return class_weights\t\n",
    "\n",
    "# Gets a pandas series of 5D numpy arrays. Filters out all arrays, which have a value of 0 in the 3rd dimension.\n",
    "def filter_labels(df, idx, val=1):\t\n",
    "    return df[df.label.apply(lambda x: x[idx] == val)]\n",
    "\n",
    "# Gets a numpy array as input. Returns a numpy array with all possible 2-combinations of the input. The order of the combinations is not important and combinations with the same elements are not included.\n",
    "def get_similarities(array, similarity_functions):\t\n",
    "    similarities = {}\t\n",
    "    for s in similarity_functions:\n",
    "        similarities[s] = []\n",
    "    \n",
    "    for i in range(len(array)):\n",
    "        for j in range(i+1, len(array)):\n",
    "            for s in similarity_functions:\n",
    "                similarities[s].append(locals()[s+\"_similarity\"](array[i], array[j]))\n",
    "    return np.array(similarities)\t"
   ]
  },
  {
   "cell_type": "code",
   "execution_count": 29,
   "metadata": {},
   "outputs": [],
   "source": [
    "# Gets a numpy array with n rows. Returns the pairwise cosine similarity between all rows. The result is a list of n(n-1)/2 values.\n",
    "def get_similarities(array, ):\t\t\t\n",
    "    return np.array([cosine_similarity(array[i], array[j]) for i in range(len(array)) for j in range(i+1, len(array))])\t"
   ]
  },
  {
   "cell_type": "code",
   "execution_count": 59,
   "metadata": {},
   "outputs": [],
   "source": [
    "image_path = \"/home/mohammad/indaStudentTower2Backup/Split_ECG_Classification/latent_space/single_client_honest/client_1.pickle\""
   ]
  },
  {
   "cell_type": "code",
   "execution_count": 60,
   "metadata": {},
   "outputs": [
    {
     "ename": "",
     "evalue": "",
     "output_type": "error",
     "traceback": [
      "\u001b[1;31mCanceled future for execute_request message before replies were done"
     ]
    },
    {
     "ename": "",
     "evalue": "",
     "output_type": "error",
     "traceback": [
      "\u001b[1;31mThe Kernel crashed while executing code in the the current cell or a previous cell. Please review the code in the cell(s) to identify a possible cause of the failure. Click <a href='https://aka.ms/vscodeJupyterKernelCrash'>here</a> for more info. View Jupyter <a href='command:jupyter.viewOutput'>log</a> for further details."
     ]
    }
   ],
   "source": [
    "client1 = pickle.load(open(image_path, \"rb\"))\n",
    "samples = client1[\"samples\"]\n",
    "class_counts = samples.label.sum(axis=0)\n",
    "samples_30 = samples[samples.epoch == 30]\n",
    "max_class_1 = filter_labels(samples_30, np.argmax(class_counts))\n",
    "max_class_0 = filter_labels(samples_30, np.argmax(class_counts), 0)\n",
    "pooled_vectors = np.array(list(max_class_1.client_output_pooled))\n",
    "combinations = get_combinations(pooled_vectors)"
   ]
  },
  {
   "cell_type": "code",
   "execution_count": 61,
   "metadata": {},
   "outputs": [
    {
     "data": {
      "text/plain": [
       "44883075.0"
      ]
     },
     "execution_count": 61,
     "metadata": {},
     "output_type": "execute_result"
    }
   ],
   "source": [
    "# Hint: Current methof has quadratic complexity. Search for ways to improve it.\n",
    "9475 * (9475-1 ) /2"
   ]
  },
  {
   "cell_type": "code",
   "execution_count": 3,
   "metadata": {},
   "outputs": [],
   "source": [
    "def foo():\n",
    "    print(\"bar\")"
   ]
  },
  {
   "cell_type": "code",
   "execution_count": 4,
   "metadata": {},
   "outputs": [
    {
     "name": "stdout",
     "output_type": "stream",
     "text": [
      "bar\n"
     ]
    }
   ],
   "source": [
    "locals()[\"foo\"]()"
   ]
  },
  {
   "attachments": {},
   "cell_type": "markdown",
   "metadata": {},
   "source": [
    "### Case 1: Honest Client"
   ]
  },
  {
   "cell_type": "code",
   "execution_count": 30,
   "metadata": {},
   "outputs": [],
   "source": [
    "cos_sim = get_cosine_similarity(pooled_vectors)"
   ]
  },
  {
   "cell_type": "code",
   "execution_count": 35,
   "metadata": {},
   "outputs": [
    {
     "data": {
      "text/plain": [
       "0.9240416362367839"
      ]
     },
     "execution_count": 35,
     "metadata": {},
     "output_type": "execute_result"
    }
   ],
   "source": [
    "np.mean(cos_sim)"
   ]
  },
  {
   "cell_type": "code",
   "execution_count": 36,
   "metadata": {},
   "outputs": [
    {
     "data": {
      "text/plain": [
       "0.0025126748094221434"
      ]
     },
     "execution_count": 36,
     "metadata": {},
     "output_type": "execute_result"
    }
   ],
   "source": [
    "np.var(cos_sim)"
   ]
  },
  {
   "cell_type": "code",
   "execution_count": 14,
   "metadata": {},
   "outputs": [],
   "source": [
    "cos_sim = cosine_similarity(pooled_vectors, pooled_vectors.T)"
   ]
  },
  {
   "cell_type": "code",
   "execution_count": 28,
   "metadata": {},
   "outputs": [
    {
     "data": {
      "text/plain": [
       "6.0279220274143594e-05"
      ]
     },
     "execution_count": 28,
     "metadata": {},
     "output_type": "execute_result"
    }
   ],
   "source": [
    "cos_sim[3][1]"
   ]
  },
  {
   "cell_type": "code",
   "execution_count": null,
   "metadata": {},
   "outputs": [],
   "source": []
  },
  {
   "cell_type": "code",
   "execution_count": 35,
   "metadata": {},
   "outputs": [
    {
     "data": {
      "text/plain": [
       "(9475, 24)"
      ]
     },
     "execution_count": 35,
     "metadata": {},
     "output_type": "execute_result"
    }
   ],
   "source": [
    "pooled_vectors.shape"
   ]
  },
  {
   "cell_type": "code",
   "execution_count": 26,
   "metadata": {},
   "outputs": [],
   "source": [
    "sim = pairwise_similarity(pooled_vectors, cosine_similarity)"
   ]
  },
  {
   "cell_type": "code",
   "execution_count": 27,
   "metadata": {},
   "outputs": [
    {
     "data": {
      "text/plain": [
       "(9475, 9475)"
      ]
     },
     "execution_count": 27,
     "metadata": {},
     "output_type": "execute_result"
    }
   ],
   "source": [
    "sim.shape"
   ]
  },
  {
   "cell_type": "code",
   "execution_count": null,
   "metadata": {},
   "outputs": [],
   "source": [
    "sim[0][0]"
   ]
  },
  {
   "cell_type": "code",
   "execution_count": 28,
   "metadata": {},
   "outputs": [
    {
     "data": {
      "text/plain": [
       "array([[0.        , 0.9039967 , 0.92422921, ..., 0.93199027, 0.95175634,\n",
       "        0.95940484],\n",
       "       [0.        , 0.        , 0.92796726, ..., 0.97648788, 0.95105033,\n",
       "        0.96545122],\n",
       "       [0.        , 0.        , 0.        , ..., 0.96173151, 0.94985534,\n",
       "        0.94585569],\n",
       "       ...,\n",
       "       [0.        , 0.        , 0.        , ..., 0.        , 0.97933296,\n",
       "        0.9797038 ],\n",
       "       [0.        , 0.        , 0.        , ..., 0.        , 0.        ,\n",
       "        0.98479301],\n",
       "       [0.        , 0.        , 0.        , ..., 0.        , 0.        ,\n",
       "        0.        ]])"
      ]
     },
     "execution_count": 28,
     "metadata": {},
     "output_type": "execute_result"
    }
   ],
   "source": [
    "sim"
   ]
  },
  {
   "cell_type": "code",
   "execution_count": 36,
   "metadata": {},
   "outputs": [
    {
     "data": {
      "text/plain": [
       "array([[120.22450007, 119.42928379,  93.80921672, ..., 147.57123968,\n",
       "        116.19818361, 203.38387522],\n",
       "       [119.42928379, 144.81136211, 102.24885159, ..., 169.05863278,\n",
       "        127.16930033, 225.26501639],\n",
       "       [ 93.80921672, 102.24885159,  82.71137638, ..., 126.34615963,\n",
       "         96.69917432, 169.31727868],\n",
       "       ...,\n",
       "       [147.57123968, 169.05863278, 126.34615963, ..., 206.9149232 ,\n",
       "        156.62530814, 273.8333732 ],\n",
       "       [116.19818361, 127.16930033,  96.69917432, ..., 156.62530814,\n",
       "        123.55340639, 212.25461511],\n",
       "       [203.38387522, 225.26501639, 169.31727868, ..., 273.8333732 ,\n",
       "        212.25461511, 374.51973956]])"
      ]
     },
     "execution_count": 36,
     "metadata": {},
     "output_type": "execute_result"
    }
   ],
   "source": [
    "np.cov(pooled_vectors)"
   ]
  },
  {
   "cell_type": "code",
   "execution_count": 38,
   "metadata": {},
   "outputs": [
    {
     "ename": "ValueError",
     "evalue": "shapes (9475,1,24) and (1,9475,24) not aligned: 24 (dim 2) != 9475 (dim 1)",
     "output_type": "error",
     "traceback": [
      "\u001b[0;31m---------------------------------------------------------------------------\u001b[0m",
      "\u001b[0;31mValueError\u001b[0m                                Traceback (most recent call last)",
      "Cell \u001b[0;32mIn[38], line 1\u001b[0m\n\u001b[0;32m----> 1\u001b[0m sim2 \u001b[39m=\u001b[39m pairwise_similarity_1d(pooled_vectors, cosine_similarity)\n",
      "Cell \u001b[0;32mIn[37], line 17\u001b[0m, in \u001b[0;36mpairwise_similarity_1d\u001b[0;34m(array, similarity_function)\u001b[0m\n\u001b[1;32m     15\u001b[0m \u001b[39mdef\u001b[39;00m \u001b[39mpairwise_similarity_1d\u001b[39m(array, similarity_function):\t\t\n\u001b[1;32m     16\u001b[0m     \u001b[39m# Calculate the pairwise similarity\u001b[39;00m\n\u001b[0;32m---> 17\u001b[0m     similarity_matrix \u001b[39m=\u001b[39m similarity_function(array[:, \u001b[39mNone\u001b[39;49;00m], array[\u001b[39mNone\u001b[39;49;00m, :])\n\u001b[1;32m     19\u001b[0m     \u001b[39m# Set the diagonal to 1\u001b[39;00m\n\u001b[1;32m     20\u001b[0m     np\u001b[39m.\u001b[39mfill_diagonal(similarity_matrix, \u001b[39m1\u001b[39m)\n",
      "Cell \u001b[0;32mIn[37], line 27\u001b[0m, in \u001b[0;36mcosine_similarity\u001b[0;34m(vector1, vector2)\u001b[0m\n\u001b[1;32m     26\u001b[0m \u001b[39mdef\u001b[39;00m \u001b[39mcosine_similarity\u001b[39m(vector1, vector2):\n\u001b[0;32m---> 27\u001b[0m     \u001b[39mreturn\u001b[39;00m np\u001b[39m.\u001b[39;49mdot(vector1, vector2) \u001b[39m/\u001b[39m (np\u001b[39m.\u001b[39mlinalg\u001b[39m.\u001b[39mnorm(vector1) \u001b[39m*\u001b[39m np\u001b[39m.\u001b[39mlinalg\u001b[39m.\u001b[39mnorm(vector2))\n",
      "File \u001b[0;32m<__array_function__ internals>:5\u001b[0m, in \u001b[0;36mdot\u001b[0;34m(*args, **kwargs)\u001b[0m\n",
      "\u001b[0;31mValueError\u001b[0m: shapes (9475,1,24) and (1,9475,24) not aligned: 24 (dim 2) != 9475 (dim 1)"
     ]
    }
   ],
   "source": [
    "sim2 = pairwise_similarity_1d(pooled_vectors, cosine_similarity)"
   ]
  },
  {
   "cell_type": "code",
   "execution_count": 39,
   "metadata": {},
   "outputs": [
    {
     "data": {
      "text/plain": [
       "(9475, 24)"
      ]
     },
     "execution_count": 39,
     "metadata": {},
     "output_type": "execute_result"
    }
   ],
   "source": [
    "pooled_vectors.shape"
   ]
  },
  {
   "cell_type": "code",
   "execution_count": 42,
   "metadata": {},
   "outputs": [
    {
     "data": {
      "text/plain": [
       "(9475, 9475)"
      ]
     },
     "execution_count": 42,
     "metadata": {},
     "output_type": "execute_result"
    }
   ],
   "source": [
    "cosine_similarity(pooled_vectors, pooled_vectors.T).shape"
   ]
  },
  {
   "cell_type": "code",
   "execution_count": 44,
   "metadata": {},
   "outputs": [
    {
     "data": {
      "text/plain": [
       "array([[2830.07704501, 2784.5157626 , 2145.72346015, ..., 3425.943581  ,\n",
       "        2708.53567258, 4789.79988423],\n",
       "       [2784.5157626 , 3352.48940652, 2344.82963801, ..., 3906.79176009,\n",
       "        2945.75660517, 5246.02527076],\n",
       "       [2145.72346015, 2344.82963801, 1904.53896848, ..., 2900.13676477,\n",
       "        2217.49195628, 3873.79064062],\n",
       "       ...,\n",
       "       [3425.943581  , 3906.79176009, 2900.13676477, ..., 4774.62645892,\n",
       "        3620.00961442, 6353.02882379],\n",
       "       [2708.53567258, 2945.75660517, 2217.49195628, ..., 3620.00961442,\n",
       "        2861.66835972, 4943.91441687],\n",
       "       [4789.79988423, 5246.02527076, 3873.79064062, ..., 6353.02882379,\n",
       "        4943.91441687, 8807.09474908]])"
      ]
     },
     "execution_count": 44,
     "metadata": {},
     "output_type": "execute_result"
    }
   ],
   "source": [
    "get_similarities(pooled_vectors, \"cosine\")"
   ]
  },
  {
   "cell_type": "code",
   "execution_count": null,
   "metadata": {},
   "outputs": [],
   "source": []
  }
 ],
 "metadata": {
  "kernelspec": {
   "display_name": "Medical-Split-Learning",
   "language": "python",
   "name": "python3"
  },
  "language_info": {
   "codemirror_mode": {
    "name": "ipython",
    "version": 3
   },
   "file_extension": ".py",
   "mimetype": "text/x-python",
   "name": "python",
   "nbconvert_exporter": "python",
   "pygments_lexer": "ipython3",
   "version": "3.9.7"
  },
  "orig_nbformat": 4,
  "vscode": {
   "interpreter": {
    "hash": "bc52ed4b74af89c59c87218cbed3cf51503867793a5b3ec27b5161d47e38d1ba"
   }
  }
 },
 "nbformat": 4,
 "nbformat_minor": 2
}
